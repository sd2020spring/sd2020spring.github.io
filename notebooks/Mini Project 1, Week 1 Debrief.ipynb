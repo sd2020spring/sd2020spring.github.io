{
 "cells": [
  {
   "cell_type": "markdown",
   "metadata": {},
   "source": [
    "#  Debrief on Mini Project 1, Week 1\n",
    "\n",
    "This notebook goes over some of the most common areas for improvement that we saw on the first half of the mini project.  Lots of folks had correct code, but we have some suggestions for making the code more succinct / clear / efficient."
   ]
  },
  {
   "cell_type": "markdown",
   "metadata": {},
   "source": [
    "##  When to use `for` versus `while` loops\n",
    "\n",
    "Lots of folks are switching over to using the `for` loop instead of the `while` loop.  Both can be used to write correct code, however, the `for` loop's more structured nature generally makes it clearer.  For instance\n",
    "```\n",
    "for i in range(len(dna)):\n",
    "    # some code\n",
    "```\n",
    "is more readable and less error prone than\n",
    "```\n",
    "i = 0\n",
    "while i < len(dna):\n",
    "    # some code\n",
    "    i += 1\n",
    "```\n",
    "\n",
    "One instance where a lot of people used `while` loops in a way that was preferable to using `for` loops is in the `find_all_ORFs_oneframe`.  In that function you have to change the index you are iterating over based on the length of the last ORF you found.  Why would this be hard to do with a `for` loop?"
   ]
  },
  {
   "cell_type": "markdown",
   "metadata": {},
   "source": [
    "## Iteration Tricks\n",
    "\n",
    "We're already going to be learning some more iteration tricks today in class, however, two such tricks that came up repeatedly in the context of this assignment had to do with iterating through a collection in reverse order and striding through a collection in multiples of 3 (e.g., to read each codon).\n",
    "\n",
    "### Iterating in reverse\n",
    "\n",
    "Here are two approaches to iterating backwards through a string.\n",
    "```\n",
    "for i in range(len(dna)-1, -1, -1):\n",
    "    # do something with dna[i]\n",
    "```\n",
    "\n",
    "The next one uses the handy `reversed` function, which reverses a collection.\n",
    "```\n",
    "for i in reversed(range(len(dna))):\n",
    "    # do something with dna[i]\n",
    "```\n",
    "\n",
    "Why might the second approach be better?\n",
    "\n",
    "### Using Slices\n",
    "\n",
    "You can [use slices](http://www.greenteapress.com/thinkpython2/html/thinkpython2009.html#sec95)\n",
    "with both strings and lists.\n",
    "We saw a lot of cases where slices would have made the code much more readable.  For example,\n",
    "\n",
    "```\n",
    "for i in range(0, len(dna), len(dna)-2):\n",
    "    if dna[i] == 'A' and dna[i+1] == 'T' and dna[i+2] == 'G':\n",
    "        # found the start codon\n",
    "```\n",
    "\n",
    "A much more succinct way to do this is\n",
    "```\n",
    "for i in range(0, len(dna), len(dna)-2):\n",
    "    if dna[i:i+3] == 'ATG':\n",
    "        # found the start codon\n",
    "```\n",
    "\n",
    "#### Less-readable (but useful) slices\n",
    "\n",
    "You may see the following common idioms in Python code. They're succinct and useful, but it's not immediately clear what each does, so consider including a comment if you deploy them in your code. Both take advantage of the fact that slices return a new object.\n",
    "\n",
    "```\n",
    "# Make a copy\n",
    "new = old[:]\n",
    "\n",
    "# Get a reversed copy\n",
    "dlo = old[::-1]\n",
    "```\n",
    "\n",
    "\n",
    "### Make use of stride lengths\n",
    "\n",
    "The issue of how to deal with looping through codons is a tricky one.  For one thing, you have to be sure that you are in frame when searching for stop or start codons.  This resulted in code like the following:\n",
    "\n",
    "```\n",
    "for i in range(len(dna)):\n",
    "    if i % 3 == 0 and dna[i:i+3] == 'TAG':\n",
    "        # found an in frame stop codon\n",
    "```\n",
    "\n",
    "By using the `range` function's built-in stride length parameter, you can avoid the unecessary check that `i` is a multiple of 3.\n",
    "\n",
    "```\n",
    "for i in range(0, len(dna), 3):\n",
    "    if dna[i:i+3] == 'TAG':\n",
    "        # found an in frame stop codon\n",
    "```"
   ]
  },
  {
   "cell_type": "markdown",
   "metadata": {},
   "source": [
    "## Careful with variables\n",
    "\n",
    "There were quite instances of suboptimal practices with variables.\n",
    "\n",
    "### Choosing good variable names\n",
    "\n",
    "Some common pitfalls that we saw.\n",
    "1.  Using the variable `i` in a way other than as an index being iterated over.\n",
    "2.  Choosing one letter variable names that weren't semantically meaningful (e.g., `a = dna[1:]` instead of `shifted_dna = dna[1:]`).\n",
    "3.  Using Hungarian notation by calling variables things like `list_1`, `list_2`, etc.\n",
    "4.  Choosing variable names that conflict with built-in Python functions or types.\n",
    "\n",
    "### Unnecessarily defining temporary variables\n",
    "\n",
    "Lots of people defined temporary variables that were unnecessary.  A very common one that we saw was the following.\n",
    "\n",
    "```\n",
    "length = len(dna)\n",
    "```\n",
    "While this seems good at first blush, you have to ask yourself what the tradeoffs are for doing this.  On the positive side, you may think that this is more efficient computationally, however, that's not likely to be the case.  On the downside you have taken something that all Python programmers understand (that `len(dna)` is the number of elements in `dna`) and made it more difficult to understand (e.g., whenever you see `length` in the code, you will have to think through what length it is referring to)."
   ]
  },
  {
   "cell_type": "markdown",
   "metadata": {},
   "source": [
    "## Careful with Commenting\n",
    "\n",
    "While we gave you docstrings for all of the functions you had to implement, there were many cases where people could have used more inline commenting.  Of course there are many functions that are self-documenting (meaning that they are so clear that they wouldn't need comments explaining their structure).  However, there were some where the logical flow of the program was very hard to follow and no comments were given to help the reader."
   ]
  },
  {
   "cell_type": "markdown",
   "metadata": {},
   "source": [
    "## A note about computational efficiency and `get_reverse_complement`\n",
    "\n",
    "There were quite a few approaches to getting the reverse complement of a DNA sequence.  The following approaches are both correct, but one is more computationally efficient than the other.  We will show some results of timing each of these approaches."
   ]
  },
  {
   "cell_type": "code",
   "execution_count": 1,
   "metadata": {},
   "outputs": [
    {
     "data": {
      "text/plain": [
       "TestResults(failed=0, attempted=4)"
      ]
     },
     "execution_count": 1,
     "metadata": {},
     "output_type": "execute_result"
    }
   ],
   "source": [
    "import doctest\n",
    "\n",
    "def get_complement(nucleotide):\n",
    "    if nucleotide == 'A':\n",
    "        return 'T'\n",
    "    if nucleotide == 'T':\n",
    "        return 'A'\n",
    "    if nucleotide == 'G':\n",
    "        return 'C'\n",
    "    if nucleotide == 'C':\n",
    "        return 'G'\n",
    "\n",
    "def reverse_complement_method_1(dna):\n",
    "    \"\"\" Computes the reverse complementary sequence of DNA for the specfied DNA\n",
    "        sequence\n",
    "            dna: a DNA sequence represented as a string\n",
    "            returns: the reverse complementary DNA sequence represented as a string\n",
    "        >>> reverse_complement_method_1(\"ATGCCCGCTTT\")\n",
    "        'AAAGCGGGCAT'\n",
    "        >>> reverse_complement_method_1(\"CCGCGTTCA\")\n",
    "        'TGAACGCGG'\n",
    "    \"\"\"\n",
    "    reverse_complement = ''\n",
    "    for n in dna:\n",
    "        reverse_complement = get_complement(n) + reverse_complement\n",
    "    return reverse_complement\n",
    "\n",
    "def reverse_complement_method_2(dna):\n",
    "    \"\"\" Computes the reverse complementary sequence of DNA for the specfied DNA\n",
    "        sequence\n",
    "            dna: a DNA sequence represented as a string\n",
    "            returns: the reverse complementary DNA sequence represented as a string\n",
    "        >>> reverse_complement_method_2(\"ATGCCCGCTTT\")\n",
    "        'AAAGCGGGCAT'\n",
    "        >>> reverse_complement_method_2(\"CCGCGTTCA\")\n",
    "        'TGAACGCGG'\n",
    "    \"\"\"\n",
    "    reverse_complement = []\n",
    "    for n in reversed(dna):\n",
    "        reverse_complement.append(get_complement(n))\n",
    "    return ''.join(reverse_complement)\n",
    "\n",
    "import doctest\n",
    "doctest.testmod()"
   ]
  },
  {
   "cell_type": "markdown",
   "metadata": {},
   "source": [
    "We can now benchmark these against both short and long sequences of DNA."
   ]
  },
  {
   "cell_type": "code",
   "execution_count": 14,
   "metadata": {},
   "outputs": [
    {
     "name": "stdout",
     "output_type": "stream",
     "text": [
      "25.1 µs ± 1.31 µs per loop (mean ± std. dev. of 7 runs, 10000 loops each)\n",
      "25.1 µs ± 908 ns per loop (mean ± std. dev. of 7 runs, 10000 loops each)\n",
      "1.37 s ± 52.9 ms per loop (mean ± std. dev. of 7 runs, 1 loop each)\n",
      "48.8 ms ± 1.29 ms per loop (mean ± std. dev. of 7 runs, 10 loops each)\n"
     ]
    }
   ],
   "source": [
    "from random import choice\n",
    "\n",
    "random_short_dna = [choice(['A','T','G','C']) for _ in range(100)]\n",
    "%timeit reverse_complement_method_1(random_short_dna)\n",
    "%timeit reverse_complement_method_2(random_short_dna)\n",
    "\n",
    "random_long_dna = [choice(['A','T','G','C']) for _ in range(200000)]\n",
    "%timeit reverse_complement_method_1(random_long_dna)\n",
    "%timeit reverse_complement_method_2(random_long_dna)"
   ]
  }
 ],
 "metadata": {
  "kernelspec": {
   "display_name": "Python 3",
   "language": "python",
   "name": "python3"
  },
  "language_info": {
   "codemirror_mode": {
    "name": "ipython",
    "version": 3
   },
   "file_extension": ".py",
   "mimetype": "text/x-python",
   "name": "python",
   "nbconvert_exporter": "python",
   "pygments_lexer": "ipython3",
   "version": "3.7.1"
  }
 },
 "nbformat": 4,
 "nbformat_minor": 2
}
