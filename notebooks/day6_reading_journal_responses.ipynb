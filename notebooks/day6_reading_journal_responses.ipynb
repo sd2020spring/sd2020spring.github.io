{
 "cells": [
  {
   "cell_type": "markdown",
   "metadata": {
    "is_question": true,
    "problem": "Exercise 6.6"
   },
   "source": [
    "### Exercise 6  \n",
    "\n",
    "A palindrome is a word that is spelled the same backward and forward, like “noon” and “redivider”. Recursively, a word is a palindrome if the first and last letters are the same and the middle is a palindrome.\n",
    "\n",
    "You can use the `first`, `last`, and `middle` helper functions defined in Think Python, or do the string slices inside your function directly. Be sure to think about your base cases.\n",
    "    \n",
    "Write a function called `is_palindrome` that takes a string argument and returns `True` if it is a palindrome and `False` otherwise. Remember that you can use the built-in function `len` to check the length of a string.\n",
    "\n",
    "Write some unit tests for your function (optionally using doctest) to show that it works as intended."
   ]
  },
  {
   "cell_type": "code",
   "execution_count": 2,
   "metadata": {},
   "outputs": [],
   "source": [
    "# Helper functions\n",
    "\n",
    "def first(word):\n",
    "    return word[0]\n",
    "def last(word):\n",
    "    return word[-1]\n",
    "def middle(word):\n",
    "    return word[1:-1]"
   ]
  },
  {
   "cell_type": "code",
   "execution_count": 16,
   "metadata": {
    "solution": "Exercise 6.6"
   },
   "outputs": [],
   "source": [
    "# Palindrome Solution 1\n",
    "\n",
    "def is_palindrome(word):\n",
    "    if first(word)==last(word):\n",
    "        if len(word)<=2:\n",
    "            return True\n",
    "        else:\n",
    "            return is_palindrome (middle(word)) \n",
    "    else:\n",
    "        return False"
   ]
  },
  {
   "cell_type": "code",
   "execution_count": 29,
   "metadata": {
    "solution": "Exercise 6.6"
   },
   "outputs": [],
   "source": [
    "# Palindrome Solution 2\n",
    "\n",
    "def is_palindrome(x):\n",
    "    if len(x) >= 3: \n",
    "        if x[0] == x[-1]:\n",
    "            return is_palindrome(x[1:-1])\n",
    "        else:\n",
    "            return False\n",
    "    elif x[0] == x[-1]:\n",
    "        return True\n",
    "    else:\n",
    "        return False        "
   ]
  },
  {
   "cell_type": "code",
   "execution_count": 33,
   "metadata": {
    "solution": "Exercise 6.6"
   },
   "outputs": [],
   "source": [
    "# Palindrome Solution 3\n",
    "\n",
    "def is_palindrome(x):\n",
    "    \"\"\"\n",
    ">>> is_palindrome(\"cart\")\n",
    "False\n",
    ">>> is_palindrome(\"bobob\")\n",
    "True\n",
    ">>> is_palindrome(\"kayak\")\n",
    "True\n",
    "    \"\"\"\n",
    "    for i in range(len(x)):\n",
    "        if x == x[::-1]:\n",
    "            return True\n",
    "    return False"
   ]
  },
  {
   "cell_type": "code",
   "execution_count": 34,
   "metadata": {
    "solution": "Exercise 6.6"
   },
   "outputs": [],
   "source": [
    "# Palindrome Solution 4\n",
    "\n",
    "def is_pallindrome(string):\n",
    "    string = string.lower()\n",
    "    if len(string)>1:\n",
    "        if string[0] == string[len(string)-1]:\n",
    "            string = string[1:len(string)-1]\n",
    "            return True\n",
    "        if string[0] != string[len(string)-1]:\n",
    "            return False\n",
    "    return is_pallindrome(string)"
   ]
  },
  {
   "cell_type": "code",
   "execution_count": 35,
   "metadata": {
    "solution": "Exercise 6.6"
   },
   "outputs": [],
   "source": [
    "# Palindrome Solution 5\n",
    "\n",
    "def is_palindrome(s):\n",
    "    \"\"\"\n",
    "    >>> is_palindrome(\"Go hang a salami Im a lasagna hog\") # even palindrome\n",
    "    True\n",
    "    >>> is_palindrome(\"Ah Satan sees Natasha\")\n",
    "    True\n",
    "    >>> is_palindrome(\"No melons no lemon\") # odd palindrome\n",
    "    True\n",
    "    >>> is_palindrome(\"Now I see bees I lost\") # not a palindrome\n",
    "    False\n",
    "    \"\"\"\n",
    "    s = s.strip().lower()\n",
    "    if len(s) <= 1:\n",
    "        return True\n",
    "    if s[0] == s[len(s)-1]:\n",
    "        return is_palindrome(s[1::len(s)-1])\n",
    "    else:\n",
    "        return False"
   ]
  },
  {
   "cell_type": "code",
   "execution_count": 126,
   "metadata": {
    "solution": "Exercise 6.6"
   },
   "outputs": [],
   "source": [
    "# Palindrome Solution 6\n",
    "\n",
    "def is_palindrome(word):\n",
    "    flag = True\n",
    "    if len(word) == 1:\n",
    "        return True\n",
    "    if len(word) < 3: #when len == 2\n",
    "        return first(word) == last(word)\n",
    "    return (first(word) == last(word) and is_palindrome(middle(word)))"
   ]
  },
  {
   "cell_type": "code",
   "execution_count": 128,
   "metadata": {
    "solution": "Exercise 6.6"
   },
   "outputs": [],
   "source": [
    "# Palindrome Solution 7\n",
    "\n",
    "def is_palindrome(WoRd):\n",
    "    \"\"\" Returns True/False for if input is a palindrome.\n",
    "    >>> is_palindrome('word')\n",
    "    False\n",
    "    >>> is_palindrome('racecar')\n",
    "    True\n",
    "    >>> is_palindrome('Racecar')\n",
    "    True\n",
    "    >>> is_palindrome('redivider')\n",
    "    True\n",
    "    >>> is_palindrome('l')\n",
    "    True\n",
    "    \"\"\"\n",
    "    word = WoRd.lower()\n",
    "    if len(word) < 3:\n",
    "        if first(word) == last(word):\n",
    "            return True\n",
    "        else:\n",
    "            return False\n",
    "    if len(word) >= 3:\n",
    "        if first(word) == last(word):\n",
    "            return is_palindrome(middle(word))\n",
    "        else:\n",
    "            return False"
   ]
  },
  {
   "cell_type": "code",
   "execution_count": 39,
   "metadata": {
    "solution": "Exercise 6.6"
   },
   "outputs": [],
   "source": [
    "# Palindrome Solution 8\n",
    "\n",
    "def palindrome(word):\n",
    "    \"\"\"\n",
    "    Recursively looks through a string and determines if it is a palindrome.\n",
    "    \n",
    "    >>> palindrome('racecar')\n",
    "    True\n",
    "    \n",
    "    >>> palindrome('abba')\n",
    "    True\n",
    "    \n",
    "    >>> palindrome('palindrome')\n",
    "    False\n",
    "    \n",
    "    \"\"\"\n",
    "    if len(word) < 2:\n",
    "        return True\n",
    "    elif word[0] == word[-1]:\n",
    "        return palindrome(word[1:-1])\n",
    "    return False"
   ]
  },
  {
   "cell_type": "code",
   "execution_count": 42,
   "metadata": {
    "solution": "Exercise 6.6"
   },
   "outputs": [],
   "source": [
    "# Palindrome Solution 9\n",
    "\n",
    "def is_palindrome(word):\n",
    "    '''\n",
    ">>> is_palindrome(\"redivider\")\n",
    "True\n",
    ">>> is_palindrome(\"bob\")\n",
    "True\n",
    ">>> is_palindrome(\"ttta\")\n",
    "False\n",
    ">>> is_palindrome(\"aaaaaaa\")\n",
    "True\n",
    "\n",
    "'''\n",
    "    mid = middle(word)\n",
    "    if first(word) == last(word):    \n",
    "        if mid[:] == mid[::-1]:\n",
    "            return True\n",
    "    return False"
   ]
  },
  {
   "cell_type": "code",
   "execution_count": 43,
   "metadata": {
    "solution": "Exercise 6.6"
   },
   "outputs": [],
   "source": [
    "# Palindrome Solution 10\n",
    "\n",
    "def is_palindrome(word):\n",
    "    word_list = list(word)\n",
    "    length = len(word_list)\n",
    "    if length <= 2:\n",
    "        return False\n",
    "    elif length > 2:\n",
    "        for letters in word_list:\n",
    "            if word_list[0] == word_list[-1]:\n",
    "                del(word_list[0])\n",
    "                del(word_list[-1])\n",
    "    if len(word_list)== 0:\n",
    "        return True\n",
    "    else:\n",
    "        return False"
   ]
  },
  {
   "cell_type": "code",
   "execution_count": 44,
   "metadata": {
    "solution": "Exercise 6.6"
   },
   "outputs": [],
   "source": [
    "# Palindrome Solution 11\n",
    "\n",
    "def is_palindrome(word):\n",
    "    forward = word\n",
    "    backward = word[::-1]\n",
    "    if forward == backward:\n",
    "        return True\n",
    "    return False"
   ]
  },
  {
   "cell_type": "code",
   "execution_count": 130,
   "metadata": {
    "solution": "Exercise 6.6"
   },
   "outputs": [
    {
     "data": {
      "text/plain": [
       "True"
      ]
     },
     "execution_count": 130,
     "metadata": {},
     "output_type": "execute_result"
    }
   ],
   "source": [
    "# Palindrome Solution 12\n",
    "\n",
    "def palindrome(a):\n",
    "    \"\"\"\n",
    "    Returns Boolean assignment True or False to determine if word is palindrome.\n",
    "    \n",
    "    >>> palindrome('DogGOD')\n",
    "    True\n",
    "    >>> palindrome('RACE car')\n",
    "    True\n",
    "    >>> palindrome('allen')\n",
    "    False\n",
    "    >>> palindrome('PAul ruvOLo')\n",
    "    False\n",
    "    >>> palindrome('stanley YELnats')\n",
    "    True\n",
    "    \"\"\"\n",
    "    a = a.lower() #converts all characters in a to lowercase\n",
    "    a = a.rstrip() #strips all spaces from a\n",
    "    if len(a) <= 1:\n",
    "        return True\n",
    "    elif first(a) != last(a):\n",
    "        return False\n",
    "    return palindrome(middle(a))\n",
    "\n",
    "#what do you know, it works\n",
    "#fun with palindromes\n",
    "palindrome('Borrow or Rob') #a moral dilemma\n",
    "palindrome('Murder for a jar of red rum') #creepiest childhood game\n",
    "palindrome('Yo Banana Boy') #it's Gabe\n",
    "palindrome('satan oscillate my metallic sonatas') #that's unfortunate\n",
    "palindrome('SolO GIGOLOS') #I am having altogether to much fun with this\n",
    "palindrome('dammit Im mad')#lol not really but I bet whoever's reading this is"
   ]
  },
  {
   "cell_type": "markdown",
   "metadata": {
    "is_question": true,
    "problem": "Exercise 6.6 challenge"
   },
   "source": [
    "### Exercise 6.4  \n",
    "\n",
    "A number $a$ is a power of $b$ if it is divisible by $b$ and $a/b$ is a power of $b$. Write a function called `is_power` that takes parameters `a` and `b` and returns `True` if `a` is a power of `b`. Note: you will have to think about the base case."
   ]
  },
  {
   "cell_type": "code",
   "execution_count": 132,
   "metadata": {
    "solution": "Exercise 6.7"
   },
   "outputs": [],
   "source": [
    "# is_power solution 1\n",
    "\n",
    "def is_power(a, b):\n",
    "     if a < b: \n",
    "        return False\n",
    "     if a == b: \n",
    "        return True\n",
    "     else:\n",
    "        return is_power(a / b, b)"
   ]
  },
  {
   "cell_type": "code",
   "execution_count": 65,
   "metadata": {
    "solution": "Exercise 6.7"
   },
   "outputs": [],
   "source": [
    "# is_power solution 2\n",
    "\n",
    "def is_power(a,b):\n",
    "    if a == b:\n",
    "        return True\n",
    "    elif a > b:\n",
    "        if a%b == 0:\n",
    "            return is_power(a//b,b)\n",
    "        else:\n",
    "            return False\n",
    "    else:\n",
    "        return False"
   ]
  },
  {
   "cell_type": "code",
   "execution_count": 66,
   "metadata": {
    "solution": "Exercise 6.7"
   },
   "outputs": [],
   "source": [
    "# is_power solution 3\n",
    "\n",
    "def is_power(a,b):\n",
    "    if a>b:\n",
    "        if a%b == 0:\n",
    "            return True\n",
    "        if a%b != 0:\n",
    "            return False\n",
    "    return is_power(a/b,b)"
   ]
  },
  {
   "cell_type": "code",
   "execution_count": 133,
   "metadata": {
    "solution": "Exercise 6.7"
   },
   "outputs": [],
   "source": [
    "# is_power solution 4\n",
    "\n",
    "def is_power(a,b):\n",
    "    if a is b:\n",
    "        return True\n",
    "    elif a%b == 0:\n",
    "        return is_power(a//b,b)\n",
    "    else:\n",
    "        return False"
   ]
  },
  {
   "cell_type": "code",
   "execution_count": 135,
   "metadata": {
    "solution": "Exercise 6.7"
   },
   "outputs": [],
   "source": [
    "# is_power solution 5\n",
    "\n",
    "def is_power(a,b):\n",
    "    \"\"\"\n",
    "    >>> is_power(4,2)\n",
    "    True\n",
    "    >>> is_power(3,2)\n",
    "    False\n",
    "    \"\"\"\n",
    "    if a == 1:\n",
    "        return True\n",
    "    return a%b == 0 and is_power(a/b, b)"
   ]
  },
  {
   "cell_type": "code",
   "execution_count": 70,
   "metadata": {
    "solution": "Exercise 6.7"
   },
   "outputs": [],
   "source": [
    "# is_power solution 6\n",
    "\n",
    "def is_power(a,b):\n",
    "    \"\"\"returns whether a is a power of b.\n",
    "    doctests test for a is zeroeth power, a is first power, a is nth power, and a is not power.\n",
    "    >>> is_power(1, 70)\n",
    "    True\n",
    "    >>> is_power(5, 5)\n",
    "    True\n",
    "    >>> is_power(128, 2)\n",
    "    True\n",
    "    >>> is_power(132, 2)\n",
    "    False\n",
    "    \"\"\"\n",
    "    if a == 1:\n",
    "        return True\n",
    "    elif a % b == 0:\n",
    "        return is_power(a//b,b)\n",
    "    else:\n",
    "        return False"
   ]
  },
  {
   "cell_type": "code",
   "execution_count": 136,
   "metadata": {
    "solution": "Exercise 6.7"
   },
   "outputs": [],
   "source": [
    "# is_power solution 7\n",
    "\n",
    "def is_power(a,b):\n",
    "    \"\"\" Returns True/False for if a is a power of b.\n",
    "    >>> is_power(3,2)\n",
    "    True\n",
    "    >>> is_power(1,5)\n",
    "    True\n",
    "    >>> is_power(6,6)\n",
    "    True\n",
    "    >>> is_power(2,0)\n",
    "    False\n",
    "    >>> is_power(6,1)\n",
    "    False\n",
    "    >>> is_power(6,3)\n",
    "    False\n",
    "    \"\"\"\n",
    "    if a == 0 or b == 0:\n",
    "        return False\n",
    "    elif b == 1:\n",
    "        if a == 1:\n",
    "            return True\n",
    "        else:\n",
    "            return False\n",
    "    \n",
    "    if a==1 or (a/b)==1:\n",
    "        result = True\n",
    "    elif a % b == 0 and a!=0:\n",
    "        result = is_power((a//b),b)\n",
    "    else:\n",
    "        result = False\n",
    "  \n",
    "    return result"
   ]
  },
  {
   "cell_type": "code",
   "execution_count": 78,
   "metadata": {
    "solution": "Exercise 6.7"
   },
   "outputs": [],
   "source": [
    "# is_power solution 8\n",
    "\n",
    "def is_power(a, b):\n",
    "    \"\"\"\n",
    "    Returns if A is a power of b. \n",
    "    \n",
    "    >>> power(10, 2)\n",
    "    False\n",
    "    \n",
    "    >>> power(32, 2)\n",
    "    True\n",
    "    \n",
    "    \"\"\"\n",
    "    if not (a % b == 0):\n",
    "        return False\n",
    "    if a//b == 1:\n",
    "        return True\n",
    "    else:\n",
    "        return power(a//b, b)"
   ]
  },
  {
   "cell_type": "code",
   "execution_count": 79,
   "metadata": {
    "solution": "Exercise 6.7"
   },
   "outputs": [],
   "source": [
    "# is_power solution 9\n",
    "\n",
    "def is_power(a,b):\n",
    "    if a == b:\n",
    "        return True\n",
    "    test1 = a%b\n",
    "    a = a//b\n",
    "    if test1 == 0 and is_power(a,b):\n",
    "        return True\n",
    "    else:\n",
    "        return False"
   ]
  },
  {
   "cell_type": "code",
   "execution_count": 81,
   "metadata": {
    "solution": "Exercise 6.7"
   },
   "outputs": [],
   "source": [
    "# is_power solution 10\n",
    "\n",
    "def is_power(a, b):\n",
    "    if a % b == 0:\n",
    "        if (a//b) % b == 0:\n",
    "            return True\n",
    "    return False"
   ]
  },
  {
   "cell_type": "code",
   "execution_count": 86,
   "metadata": {
    "solution": "Exercise 6.7"
   },
   "outputs": [],
   "source": [
    "# is_power solution 11\n",
    "\n",
    "def is_power(a, b):\n",
    "    if a%b != 0:\n",
    "        return False\n",
    "    else:\n",
    "        return True\n",
    "    c = a//b\n",
    "    return is_power(c, b)"
   ]
  },
  {
   "cell_type": "code",
   "execution_count": 103,
   "metadata": {
    "solution": "Exercise 6.7"
   },
   "outputs": [],
   "source": [
    "# is_power solution 12\n",
    "\n",
    "def is_power(a,b):\n",
    "    if a%b == 0:\n",
    "        if a == b:\n",
    "            return True\n",
    "        a = a//b\n",
    "        return is_power(a,b)\n",
    "    else:\n",
    "        return False"
   ]
  }
 ],
 "metadata": {
  "kernelspec": {
   "display_name": "Python 3",
   "language": "python",
   "name": "python3"
  },
  "language_info": {
   "codemirror_mode": {
    "name": "ipython",
    "version": 3
   },
   "file_extension": ".py",
   "mimetype": "text/x-python",
   "name": "python",
   "nbconvert_exporter": "python",
   "pygments_lexer": "ipython3",
   "version": "3.7.1"
  }
 },
 "nbformat": 4,
 "nbformat_minor": 1
}
